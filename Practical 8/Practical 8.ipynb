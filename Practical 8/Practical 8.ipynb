{
 "cells": [
  {
   "cell_type": "markdown",
   "id": "48b7de1f",
   "metadata": {},
   "source": [
    "### Question \\#1 & \\#2"
   ]
  },
  {
   "cell_type": "code",
   "execution_count": 3,
   "id": "db990efb",
   "metadata": {},
   "outputs": [
    {
     "name": "stdout",
     "output_type": "stream",
     "text": [
      "Enter a string: I am a man and i am not perfect\n",
      "\n",
      "No. of words: 9\n",
      "Average word length: 2.56\n",
      "\n",
      "No. of a: 5\n",
      "No. of e: 2\n",
      "No. of i: 2\n",
      "No. of o: 1\n",
      "No. of u: 0\n"
     ]
    }
   ],
   "source": [
    "from MyInputReaders import *\n",
    "from MyStringProcessor import *\n",
    "\n",
    "def main():\n",
    "    # Read a string from user input\n",
    "    text = read_string(\"Enter a string: \")\n",
    "\n",
    "    # Print the number of words\n",
    "    print(\"\\nNo. of words:\", count_words(text))\n",
    "\n",
    "    # Print the average word length\n",
    "    print(\"Average word length: {:.2f}\\n\".format(calculate_average_word_length(text)))\n",
    "\n",
    "    # Print the number of each of the vowels separately\n",
    "    for vowel, frequency in count_vowel_aeiou(text).items():\n",
    "        print(\"No. of {}: {:d}\".format(vowel, frequency))\n",
    "\n",
    "main()"
   ]
  },
  {
   "cell_type": "markdown",
   "id": "9b2a60db",
   "metadata": {},
   "source": [
    "### Question \\#3"
   ]
  },
  {
   "cell_type": "code",
   "execution_count": 5,
   "id": "e7c2b670",
   "metadata": {},
   "outputs": [
    {
     "name": "stdout",
     "output_type": "stream",
     "text": [
      "Enter a string: Madam, I'm Alex\n",
      "'Madam, I'm Alex' is not a palindrome!\n"
     ]
    }
   ],
   "source": [
    "from MyInputReaders import *\n",
    "from MyPalindrome import *\n",
    "\n",
    "def main():\n",
    "    # Read a string from user input\n",
    "    text = read_string(\"Enter a string: \")\n",
    "    \n",
    "    # Print an output that indicates whether the string is a palindrome or not\n",
    "    print(\"'{}' {} a palindrome!\".format(text, \"is\" if is_palindrome(text) else \"is not\"))\n",
    "\n",
    "main()"
   ]
  },
  {
   "cell_type": "markdown",
   "id": "0bef6a52",
   "metadata": {},
   "source": [
    "### Question \\#4 & \\#5"
   ]
  },
  {
   "cell_type": "code",
   "execution_count": 1,
   "id": "61c3f4bf",
   "metadata": {},
   "outputs": [
    {
     "name": "stdout",
     "output_type": "stream",
     "text": [
      "Enter an integer or 0 to exit: 1\n",
      "Enter an integer or 0 to exit: 2\n",
      "Enter an integer or 0 to exit: 3\n",
      "Enter an integer or 0 to exit: 4\n",
      "Enter an integer or 0 to exit: p\n",
      "Error: Only integers are allowed!\n",
      "\n",
      "Enter an integer or 0 to exit: 2.2\n",
      "Error: Only integers are allowed!\n",
      "\n",
      "Enter an integer or 0 to exit: -5\n",
      "Enter an integer or 0 to exit: -6\n",
      "Enter an integer or 0 to exit: -7\n",
      "Enter an integer or 0 to exit: 8-\n",
      "Error: Only integers are allowed!\n",
      "\n",
      "Enter an integer or 0 to exit: -8\n",
      "Enter an integer or 0 to exit: -9\n",
      "Enter an integer or 0 to exit: 0\n",
      "\n",
      "No. of positive numbers: 4\n",
      "No. of negative numbers: 5\n",
      "Sum of all numbers     : -25\n",
      "Average of all numbers : -2.78\n"
     ]
    }
   ],
   "source": [
    "from MyInputReaders import *\n",
    "from MyNumbersProcessor import *\n",
    "\n",
    "def main():\n",
    "    numbers = []\n",
    "    \n",
    "    # Read a lists of integers from user input until 0 is entered\n",
    "    while True:\n",
    "        number = read_integer(prompt=\"Enter an integer or 0 to exit: \")\n",
    "        if number == 0:\n",
    "            break\n",
    "        else:\n",
    "            numbers.append(number)\n",
    "    \n",
    "    # Print the number of positive and negative numbers, and the sum and average of all numbers\n",
    "    print_summary(numbers)\n",
    "\n",
    "main()"
   ]
  },
  {
   "cell_type": "markdown",
   "id": "d911f117",
   "metadata": {},
   "source": [
    "### Question \\#6 & \\#7"
   ]
  },
  {
   "cell_type": "code",
   "execution_count": 1,
   "id": "7cc14ad3",
   "metadata": {},
   "outputs": [
    {
     "name": "stdout",
     "output_type": "stream",
     "text": [
      "Enter an integer or 0 to exit:1\n",
      "Enter an integer or 0 to exit:2\n",
      "Enter an integer or 0 to exit:3\n",
      "Enter an integer or 0 to exit:4\n",
      "Enter an integer or 0 to exit:p\n",
      "Error: Only integers are allowed!\n",
      "\n",
      "Enter an integer or 0 to exit:2.2\n",
      "Error: Only integers are allowed!\n",
      "\n",
      "Enter an integer or 0 to exit:-5\n",
      "Enter an integer or 0 to exit:-6\n",
      "Enter an integer or 0 to exit:-7\n",
      "Enter an integer or 0 to exit:8-\n",
      "Error: Only integers are allowed!\n",
      "\n",
      "Enter an integer or 0 to exit:-8\n",
      "Enter an integer or 0 to exit:-9\n",
      "Enter an integer or 0 to exit:0\n",
      "\n",
      "No. of positive numbers: 4\n",
      "No. of negative numbers: 5\n",
      "Sum of all numbers     : -25\n",
      "Average of all numbers : -2.78\n"
     ]
    }
   ],
   "source": [
    "from MyInputReaders import *\n",
    "from MyNumbersProcessor import *\n",
    "\n",
    "def main():   \n",
    "    # Read a lists of integers from user input until 0 is entered\n",
    "    numbers = read_integers(prompt=\"Enter an integer or 0 to exit:\", stop=0)\n",
    "    \n",
    "    # Print the number of positive and negative numbers, and the sum and average of all numbers\n",
    "    print_summary(numbers)\n",
    "\n",
    "main()"
   ]
  },
  {
   "cell_type": "markdown",
   "id": "1d0228ed",
   "metadata": {},
   "source": [
    "### Question \\#8 & \\#9"
   ]
  },
  {
   "cell_type": "code",
   "execution_count": 4,
   "id": "9f4b4b3f",
   "metadata": {},
   "outputs": [
    {
     "name": "stdout",
     "output_type": "stream",
     "text": [
      "Enter the number of students: [\n",
      "Error: Only integers are allowed!\n",
      "\n",
      "Enter the number of students: -9\n",
      "Error: Only positive integers are allowed!\n",
      "\n",
      "Enter the number of students: 0\n",
      "Error: Only positive integers are allowed!\n",
      "\n",
      "Enter the number of students: 5\n",
      "Enter a score: [\n",
      "Error: Only floating-point numbers are allowed!\n",
      "\n",
      "Enter a score: -9\n",
      "Error: Only positive values or 0 are allowed!\n",
      "\n",
      "Enter a score: 100.5\n",
      "Error: Only positive values or 0 are allowed!\n",
      "\n",
      "Enter a score: 90\n",
      "Enter a score: 45.5\n",
      "Enter a score: 67.5\n",
      "Enter a score: 23\n",
      "Enter a score: 59\n",
      "\n",
      "The highest score       : 90.0%\n",
      "The second highest score: 67.5%\n",
      "The average score       : 57.0%\n"
     ]
    }
   ],
   "source": [
    "from MyInputReaders import *\n",
    "from MyScoresCalculator import * \n",
    "\n",
    "def main():\n",
    "    prompt_1 = \"Enter the number of students: \"\n",
    "    prompt_2 = \"Enter a score: \"\n",
    "    error_1 = \"Error: Only positive integers are allowed!\\n\"\n",
    "    error_2 = \"Error: Only positive values or 0 are allowed!\\n\"\n",
    "    \n",
    "    # Read the number of students from user input with 1 set as the minimum\n",
    "    number = read_integer(prompt=prompt_1, error=error_1, minimum=1)\n",
    "    \n",
    "    # Read a score within the range of 0 and 100 from user input\n",
    "    scores = read_floats(prompt=prompt_2, error=error_2, minimum=0, maximum=100, loop=number)\n",
    "    \n",
    "    # Identify the top 2 scores\n",
    "    first, second = get_top_two_scores(scores)\n",
    "\n",
    "    # Print the top 2 scores and the average score as the output\n",
    "    print(\"\\nThe highest score       : {:.1f}%\".format(first))\n",
    "    print(\"The second highest score: {:.1f}%\".format(second))\n",
    "    print(\"The average score       : {:.1f}%\".format(calculate_average(scores)))\n",
    "\n",
    "main()"
   ]
  },
  {
   "cell_type": "markdown",
   "id": "ff2352ac",
   "metadata": {},
   "source": [
    "### Question \\#10"
   ]
  },
  {
   "cell_type": "code",
   "execution_count": 5,
   "id": "f0dd13bd",
   "metadata": {},
   "outputs": [
    {
     "name": "stdout",
     "output_type": "stream",
     "text": [
      "Enter the base amount  : 8\n",
      "Error: Wrong input!\n",
      "\n",
      "Enter the base amount  : 1150.5\n",
      "Enter the no. of months: 15\n",
      "\n",
      "Month       Total       \n",
      "1st         RM 1155.29   \n",
      "2nd         RM 2315.40   \n",
      "3rd         RM 3480.34   \n",
      "4th         RM 4650.14   \n",
      "5th         RM 5824.81   \n",
      "6th         RM 7004.37   \n",
      "7th         RM 8188.85   \n",
      "8th         RM 9378.26   \n",
      "9th         RM 10572.63  \n",
      "10th        RM 11771.98  \n",
      "11th        RM 12976.32  \n",
      "12th        RM 14185.69  \n",
      "13th        RM 15400.09  \n",
      "14th        RM 16619.55  \n",
      "15th        RM 17844.09  \n"
     ]
    }
   ],
   "source": [
    "from MyInputReaders import *\n",
    "from MyMonthlyInterestCalculator import *\n",
    "\n",
    "def main():\n",
    "    prompt_1 = \"Enter the base amount  : \"\n",
    "    prompt_2 = \"Enter the no. of months: \"\n",
    "\n",
    "    # Read the base amount from user input with 10 set as the minimum\n",
    "    base = read_float(prompt=prompt_1, minimum=10)\n",
    "    \n",
    "    # Read the number of months from user input with 1 set as the minimum\n",
    "    months = read_integer(prompt=prompt_2, minimum=1)\n",
    "    \n",
    "    # Print the monthly savings for a period of 'months' months\n",
    "    print_monthly_savings(base, months)\n",
    "\n",
    "main()"
   ]
  },
  {
   "cell_type": "markdown",
   "id": "853494bc",
   "metadata": {},
   "source": [
    "### Question \\#11"
   ]
  },
  {
   "cell_type": "code",
   "execution_count": 6,
   "id": "18d13972",
   "metadata": {},
   "outputs": [
    {
     "name": "stdout",
     "output_type": "stream",
     "text": [
      "Enter working hours: p\n",
      "Error: Only floating-point numbers are allowed!\n",
      "\n",
      "Enter working hours: -9\n",
      "Error: Wrong input!\n",
      "\n",
      "Enter working hours: 110.50\n",
      "\n",
      "Total wage     : RM6940.00\n",
      "-> Regular pay : RM1400.00\n",
      "-> Overtime pay: RM5540.00\n"
     ]
    }
   ],
   "source": [
    "from MyInputReaders import *\n",
    "from MyWageCalculator import *\n",
    "\n",
    "def main():\n",
    "    prompt = \"Enter working hours: \"\n",
    "\n",
    "    # Read the amount of working hours from user input with 1 set as the minimum\n",
    "    hours = read_float(prompt=prompt, minimum=1)\n",
    "    \n",
    "    # Calculate the total wage based on the number of hours worked\n",
    "    calculate_total_wage(hours)\n",
    "\n",
    "    # Print the total wage and its breakdown in a specified format \n",
    "    print(\"\\n{:15s}: RM{:.2f}\".format(\"Total wage\", calculate_total_wage(hours)))\n",
    "    print(\"{:15s}: RM{:.2f}\".format(\"-> Regular pay\", calculate_regular_pay(hours)))\n",
    "    print(\"{:15s}: RM{:.2f}\".format(\"-> Overtime pay\", calculate_OT_pay(hours)))\n",
    "\n",
    "main()"
   ]
  },
  {
   "cell_type": "markdown",
   "id": "b4491c4b",
   "metadata": {},
   "source": [
    "### Question \\#12"
   ]
  },
  {
   "cell_type": "code",
   "execution_count": 4,
   "id": "1d7e999a",
   "metadata": {},
   "outputs": [
    {
     "name": "stdout",
     "output_type": "stream",
     "text": [
      "Enter a score: t\n",
      "Error: Only floating-point numbers are allowed!\n",
      "\n",
      "Enter a score: -9\n",
      "Error: Wrong input!\n",
      "\n",
      "Enter a score: 90\n",
      "You got an A for the test!\n",
      "Continue? (Y/N): y\n",
      "\n",
      "Enter a score: 67.5\n",
      "You got a D for the test!\n",
      "Continue? (Y/N): n\n",
      "\n",
      "Thank you!\n"
     ]
    }
   ],
   "source": [
    "from MyInputReaders import *\n",
    "from MyGradeGenerator import *\n",
    "\n",
    "def main():\n",
    "    while True:\n",
    "        # Read a score within the range of 0 and 100 from user input \n",
    "        score = read_float(prompt=\"Enter a score: \", minimum=0, maximum=100)\n",
    "        \n",
    "        # Deduce a grade from the score\n",
    "        grade = get_grade(score)\n",
    "        \n",
    "        # Print the grade\n",
    "        print(\"You got {:s} {:s} for the test!\".format(get_article(grade), grade)) \n",
    "        \n",
    "        # Ask the user if he/she wants to continue\n",
    "        while True:\n",
    "            repeat = input(\"Continue? (Y/N): \").lower()\n",
    "            print()\n",
    "            if repeat == 'n':\n",
    "                print(\"Thank you!\")\n",
    "                return \n",
    "            elif repeat =='y':\n",
    "                break\n",
    "            else:\n",
    "                print(\"Wrong input!\")\n",
    "    \n",
    "main()"
   ]
  },
  {
   "cell_type": "markdown",
   "id": "f83a5481",
   "metadata": {},
   "source": [
    "### Question \\#13"
   ]
  },
  {
   "cell_type": "code",
   "execution_count": 2,
   "id": "0e29500f",
   "metadata": {},
   "outputs": [
    {
     "name": "stdout",
     "output_type": "stream",
     "text": [
      "Enter an integer or 'q' to exit: 1\n",
      "Enter an integer or 'q' to exit: t\n",
      "Error: Only integers are allowed!\n",
      "\n",
      "Enter an integer or 'q' to exit: 8\n",
      "Enter an integer or 'q' to exit: u\n",
      "Error: Only integers are allowed!\n",
      "\n",
      "Enter an integer or 'q' to exit: -3\n",
      "Enter an integer or 'q' to exit: 5\n",
      "Enter an integer or 'q' to exit: ?\n",
      "Error: Only integers are allowed!\n",
      "\n",
      "Enter an integer or 'q' to exit: /\n",
      "Error: Only integers are allowed!\n",
      "\n",
      "Enter an integer or 'q' to exit: 0\n",
      "Enter an integer or 'q' to exit: q\n",
      "\n",
      "Integers in reversed order: 0 5 -3 8 1 "
     ]
    }
   ],
   "source": [
    "from MyInputReaders import *\n",
    "from MyNumbersReversal import *\n",
    "\n",
    "def main():   \n",
    "    # Return a list of integers from user inputs\n",
    "    numbers = read_integers(prompt\"Enter an integer or 'q' to exit: \")\n",
    "    \n",
    "    # Invert the sequence of the numbers\n",
    "    numbers = reverse(numbers)\n",
    "    \n",
    "    # Print the numbers\n",
    "    print(\"\\nIntegers in reversed order:\", end=\" \")\n",
    "    print_numbers(numbers)\n",
    "    \n",
    "main()"
   ]
  },
  {
   "cell_type": "markdown",
   "id": "dc970f73",
   "metadata": {},
   "source": [
    "### Question \\#14"
   ]
  },
  {
   "cell_type": "code",
   "execution_count": 8,
   "id": "02834ac2",
   "metadata": {},
   "outputs": [
    {
     "name": "stdout",
     "output_type": "stream",
     "text": [
      "Enter the first 9 digits of an ISBN-10: 67nq34 q34vq43\n",
      "Error: Only positive 9-digits integer are allowed!\n",
      "\n",
      "Enter the first 9 digits of an ISBN-10: 3534645bb\n",
      "Error: Only positive 9-digits integer are allowed!\n",
      "\n",
      "Enter the first 9 digits of an ISBN-10: 5645645\n",
      "Error: Only positive 9-digits integer are allowed!\n",
      "\n",
      "Enter the first 9 digits of an ISBN-10: 123456789\n",
      "The ISBN-10 number is 123456789X\n"
     ]
    }
   ],
   "source": [
    "from MyISBN10Calculator import *\n",
    "\n",
    "def main():\n",
    "    # Read the first 9 digits of an ISBN-10 number from user input\n",
    "    number = read_input()\n",
    "    \n",
    "    # Identify the checksum of the input\n",
    "    checksum = calculate_checksum(number)\n",
    "    \n",
    "    # Print the complete ISBN-10 number\n",
    "    print_isbn10(number, checksum)\n",
    "\n",
    "main()"
   ]
  },
  {
   "cell_type": "markdown",
   "id": "799f1812",
   "metadata": {},
   "source": [
    "### Question \\#15"
   ]
  },
  {
   "cell_type": "code",
   "execution_count": 9,
   "id": "e74a2603",
   "metadata": {},
   "outputs": [
    {
     "name": "stdout",
     "output_type": "stream",
     "text": [
      "Enter 1 for a head, 2 for a tail, or 0 to exit: 1\n",
      "Correct!\n",
      "Enter 1 for a head, 2 for a tail, or 0 to exit: 2\n",
      "Wrong!\n",
      "Enter 1 for a head, 2 for a tail, or 0 to exit: 3\n",
      "Error: Only 0, 1 and 2 are allowed!\n",
      "\n",
      "Enter 1 for a head, 2 for a tail, or 0 to exit: p\n",
      "Error: Only 0, 1 and 2 are allowed!\n",
      "\n",
      "Enter 1 for a head, 2 for a tail, or 0 to exit: -1\n",
      "Error: Only 0, 1 and 2 are allowed!\n",
      "\n",
      "Enter 1 for a head, 2 for a tail, or 0 to exit: 2.2\n",
      "Error: Only 0, 1 and 2 are allowed!\n",
      "\n",
      "Enter 1 for a head, 2 for a tail, or 0 to exit: 2\n",
      "Correct!\n",
      "Enter 1 for a head, 2 for a tail, or 0 to exit: 1\n",
      "Wrong!\n",
      "Enter 1 for a head, 2 for a tail, or 0 to exit: 1\n",
      "Wrong!\n",
      "Enter 1 for a head, 2 for a tail, or 0 to exit: 2\n",
      "Wrong!\n",
      "Enter 1 for a head, 2 for a tail, or 0 to exit: 1\n",
      "Wrong!\n",
      "Enter 1 for a head, 2 for a tail, or 0 to exit: 1\n",
      "Wrong!\n",
      "Enter 1 for a head, 2 for a tail, or 0 to exit: 0\n",
      "\n",
      "Thank you for playing coin-flipping game!\n",
      "\n",
      "RESULTS\n",
      "-------\n",
      "You have made 2 correct guesses and 6 incorrect guesses.\n",
      "\n",
      "Round #1\n",
      " Answer: Head\n",
      " Guess : Head\n",
      " Result: Correct\n",
      "\n",
      "Round #2\n",
      " Answer: Head\n",
      " Guess : Tail\n",
      " Result: Wrong\n",
      "\n",
      "Round #3\n",
      " Answer: Tail\n",
      " Guess : Tail\n",
      " Result: Correct\n",
      "\n",
      "Round #4\n",
      " Answer: Tail\n",
      " Guess : Head\n",
      " Result: Wrong\n",
      "\n",
      "Round #5\n",
      " Answer: Tail\n",
      " Guess : Head\n",
      " Result: Wrong\n",
      "\n",
      "Round #6\n",
      " Answer: Head\n",
      " Guess : Tail\n",
      " Result: Wrong\n",
      "\n",
      "Round #7\n",
      " Answer: Tail\n",
      " Guess : Head\n",
      " Result: Wrong\n",
      "\n",
      "Round #8\n",
      " Answer: Tail\n",
      " Guess : Head\n",
      " Result: Wrong\n",
      "\n"
     ]
    }
   ],
   "source": [
    "from MyCoinFlippingGame import *\n",
    "\n",
    "flip_coin_game()"
   ]
  },
  {
   "cell_type": "markdown",
   "id": "bbc07ac9",
   "metadata": {},
   "source": [
    "### Question \\#16"
   ]
  },
  {
   "cell_type": "code",
   "execution_count": 1,
   "id": "088d6566",
   "metadata": {},
   "outputs": [
    {
     "name": "stdout",
     "output_type": "stream",
     "text": [
      "Identify the capital of following states:\n",
      "\n",
      "Enter the capital of Kuala Lumpur    : Shah alam\n",
      "Wrong\n",
      "\n",
      "Enter the capital of Negeri Sembilan : seremban\n",
      "Correct\n",
      "\n",
      "Enter the capital of Penang          : george town\n",
      "Correct\n",
      "\n",
      "Enter the capital of Terengganu      : kuala terengganu\n",
      "Correct\n",
      "\n",
      "Enter the capital of Sabah           : tawau\n",
      "Wrong\n",
      "\n",
      "Enter the capital of Selangor        : shah alam\n",
      "Correct\n",
      "\n",
      "Enter the capital of Labuan          : \n",
      "Wrong\n",
      "\n",
      "Enter the capital of Perak           : \n",
      "Wrong\n",
      "\n",
      "Enter the capital of Putrajaya       : \n",
      "Wrong\n",
      "\n",
      "Enter the capital of Kedah           : \n",
      "Wrong\n",
      "\n",
      "Enter the capital of Malacca         : \n",
      "Wrong\n",
      "\n",
      "Enter the capital of Sarawak         : \n",
      "Wrong\n",
      "\n",
      "Enter the capital of Kelantan        : \n",
      "Wrong\n",
      "\n",
      "Enter the capital of Perlis          : \n",
      "Wrong\n",
      "\n",
      "Enter the capital of Johor           : \n",
      "Wrong\n",
      "\n",
      "Enter the capital of Pahang          : \n",
      "Wrong\n",
      "\n",
      "You answered 4 questions correctly!\n"
     ]
    }
   ],
   "source": [
    "from MyStatesCapitals import *\n",
    "\n",
    "guess_capitals_quiz()"
   ]
  },
  {
   "cell_type": "markdown",
   "id": "3a8f69db",
   "metadata": {},
   "source": [
    "### Question \\#17"
   ]
  },
  {
   "cell_type": "code",
   "execution_count": 1,
   "id": "485ad900",
   "metadata": {},
   "outputs": [
    {
     "name": "stdout",
     "output_type": "stream",
     "text": [
      "Enter your choice (scissor/rock/paper): paper\n",
      "Computer's choice: Scissors\n",
      "You lose!\n",
      "Enter your choice (scissor/rock/paper): paper\n",
      "Computer's choice: Rock\n",
      "You win!\n",
      "Enter your choice (scissor/rock/paper): paper\n",
      "Computer's choice: Scissors\n",
      "You lose!\n",
      "\n",
      "You won 1 time and computer won 2 times.\n",
      "Computer is the final winner!\n"
     ]
    }
   ],
   "source": [
    "from MyScissorsRockPaperGame import *\n",
    "\n",
    "scissors_rock_paper_game()"
   ]
  },
  {
   "cell_type": "markdown",
   "id": "2d44bdc3",
   "metadata": {},
   "source": [
    "### Question \\#18"
   ]
  },
  {
   "cell_type": "code",
   "execution_count": 1,
   "id": "4a354501",
   "metadata": {},
   "outputs": [
    {
     "name": "stdout",
     "output_type": "stream",
     "text": [
      "1. Encoding\n",
      "2. Decoding\n",
      "3. Exit\n",
      "Enter an option (1, 2 or 3): 1\n",
      "\n",
      "--------------------Encoding--------------------\n",
      "Enter a message to be encoded: testing abc\n",
      "Enter a key: 3\n",
      "The encoded message is 'whvwlqj#def'\n",
      "\n",
      "1. Encoding\n",
      "2. Decoding\n",
      "3. Exit\n",
      "Enter an option (1, 2 or 3): 2\n",
      "\n",
      "--------------------Decoding--------------------\n",
      "Enter a message to be decoded: whvwlqj#def\n",
      "Enter a key: 3\n",
      "The decoded message is 'testing abc'\n",
      "\n",
      "1. Encoding\n",
      "2. Decoding\n",
      "3. Exit\n",
      "Enter an option (1, 2 or 3): 1\n",
      "\n",
      "--------------------Encoding--------------------\n",
      "Enter a message to be encoded: I love Python~~~~~ programming so much!!!!\n",
      "Enter a key: 5\n",
      "The encoded message is 'N%qtAj%UDymtseeeee%uwtlwfrrnsl%xt%rzhm&&&&'\n",
      "\n",
      "1. Encoding\n",
      "2. Decoding\n",
      "3. Exit\n",
      "Enter an option (1, 2 or 3): 2\n",
      "\n",
      "--------------------Decoding--------------------\n",
      "Enter a message to be decoded: N%qtAj%UDymtseeeee%uwtlwfrrnsl%xt%rzhm&&&&\n",
      "Enter a key: 5\n",
      "The decoded message is 'I love Python~~~~~ programming so much!!!!'\n",
      "\n",
      "1. Encoding\n",
      "2. Decoding\n",
      "3. Exit\n",
      "Enter an option (1, 2 or 3): 3\n",
      "\n",
      "Thank you! See you again!\n"
     ]
    }
   ],
   "source": [
    "from MyEncoder import *\n",
    "\n",
    "encoder_simulator()"
   ]
  }
 ],
 "metadata": {
  "kernelspec": {
   "display_name": "Python 3 (ipykernel)",
   "language": "python",
   "name": "python3"
  },
  "language_info": {
   "codemirror_mode": {
    "name": "ipython",
    "version": 3
   },
   "file_extension": ".py",
   "mimetype": "text/x-python",
   "name": "python",
   "nbconvert_exporter": "python",
   "pygments_lexer": "ipython3",
   "version": "3.12.7"
  }
 },
 "nbformat": 4,
 "nbformat_minor": 5
}
