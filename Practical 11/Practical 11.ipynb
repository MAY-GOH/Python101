{
 "cells": [
  {
   "cell_type": "markdown",
   "id": "0f462806",
   "metadata": {},
   "source": [
    "### Example \\#1"
   ]
  },
  {
   "cell_type": "code",
   "execution_count": 2,
   "id": "c1506559",
   "metadata": {},
   "outputs": [
    {
     "ename": "",
     "evalue": "",
     "output_type": "error",
     "traceback": [
      "\u001b[1;31mThe Kernel crashed while executing code in the current cell or a previous cell. \n",
      "\u001b[1;31mPlease review the code in the cell(s) to identify a possible cause of the failure. \n",
      "\u001b[1;31mClick <a href='https://aka.ms/vscodeJupyterKernelCrash'>here</a> for more info. \n",
      "\u001b[1;31mView Jupyter <a href='command:jupyter.viewOutput'>log</a> for further details."
     ]
    }
   ],
   "source": [
    "import tkinter as tk\n",
    "\n",
    "r = tk.Tk()\n",
    "r.title('Counting Seconds')\n",
    "button = tk.Button(r, text='Stop', width=25, command=r.destroy)\n",
    "button.pack()\n",
    "r.mainloop()"
   ]
  },
  {
   "cell_type": "code",
   "execution_count": 2,
   "id": "814dc74d",
   "metadata": {},
   "outputs": [],
   "source": [
    "import tkinter as tk\n",
    "from tkinter import ttk\n",
    "\n",
    "def on_select(event):\n",
    "    selected_item = combo_box.get()\n",
    "    label.config(text=\"Selected Item: \" + selected_item)\n",
    "\n",
    "root = tk.Tk()\n",
    "root.title(\"Combobox Example\")\n",
    "\n",
    "# Create a label\n",
    "label = tk.Label(root, text=\"Selected Item: \")\n",
    "label.pack(pady=10)\n",
    "\n",
    "# Create a Combobox widget\n",
    "combo_box = ttk.Combobox(root, values=[\"Option 1\", \"Option 2\", \"Option 3\"])\n",
    "combo_box.pack(pady=5)\n",
    "\n",
    "# Set default value\n",
    "combo_box.set(\"Option 1\")\n",
    "\n",
    "# Bind event to selection\n",
    "combo_box.bind(\"<<ComboboxSelected>>\", on_select)\n",
    "\n",
    "root.mainloop()\n",
    "\n"
   ]
  },
  {
   "cell_type": "code",
   "execution_count": 1,
   "id": "85be366c",
   "metadata": {},
   "outputs": [
    {
     "name": "stderr",
     "output_type": "stream",
     "text": [
      "2024-12-19 08:29:37.920 Python[51712:4840315] +[IMKClient subclass]: chose IMKClient_Modern\n",
      "2024-12-19 08:29:37.920 Python[51712:4840315] +[IMKInputSession subclass]: chose IMKInputSession_Modern\n"
     ]
    },
    {
     "name": "stdout",
     "output_type": "stream",
     "text": [
      "Red is selected \n",
      "Your name is \n",
      "check button is checked \n",
      "Yellow is selected \n",
      "Red is selected \n",
      "Red is selected \n"
     ]
    }
   ],
   "source": [
    "%run WidgetsDemo.py"
   ]
  },
  {
   "cell_type": "markdown",
   "id": "c65cd6b4",
   "metadata": {},
   "source": [
    "### Example \\#2"
   ]
  },
  {
   "cell_type": "code",
   "execution_count": null,
   "id": "00184094",
   "metadata": {},
   "outputs": [],
   "source": [
    "%run ChangeLabelDemo.py"
   ]
  },
  {
   "cell_type": "markdown",
   "id": "c793fb1d",
   "metadata": {},
   "source": [
    "### Example \\#3"
   ]
  },
  {
   "cell_type": "code",
   "execution_count": null,
   "id": "a1238446",
   "metadata": {},
   "outputs": [],
   "source": [
    "%run CanvasDemo.py"
   ]
  },
  {
   "cell_type": "markdown",
   "id": "a3e628dc",
   "metadata": {},
   "source": [
    "### Example \\#4"
   ]
  },
  {
   "cell_type": "code",
   "execution_count": null,
   "id": "6373e700",
   "metadata": {},
   "outputs": [],
   "source": [
    "%run ImageDemo.py"
   ]
  },
  {
   "cell_type": "markdown",
   "id": "5570b639",
   "metadata": {},
   "source": [
    "### Example \\#5"
   ]
  },
  {
   "cell_type": "code",
   "execution_count": null,
   "id": "bf7ca589",
   "metadata": {},
   "outputs": [],
   "source": [
    "%run MenuDemo.py"
   ]
  },
  {
   "cell_type": "markdown",
   "id": "2551d4d4",
   "metadata": {},
   "source": [
    "### Example \\#6"
   ]
  },
  {
   "cell_type": "code",
   "execution_count": null,
   "id": "54a79b76",
   "metadata": {},
   "outputs": [],
   "source": [
    "%run ControlAnimation.py"
   ]
  }
 ],
 "metadata": {
  "kernelspec": {
   "display_name": "Python 3",
   "language": "python",
   "name": "python3"
  },
  "language_info": {
   "codemirror_mode": {
    "name": "ipython",
    "version": 3
   },
   "file_extension": ".py",
   "mimetype": "text/x-python",
   "name": "python",
   "nbconvert_exporter": "python",
   "pygments_lexer": "ipython3",
   "version": "3.9.6"
  }
 },
 "nbformat": 4,
 "nbformat_minor": 5
}
