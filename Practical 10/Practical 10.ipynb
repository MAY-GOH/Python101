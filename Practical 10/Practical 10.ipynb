{
 "cells": [
  {
   "cell_type": "markdown",
   "id": "48b7de1f",
   "metadata": {},
   "source": [
    "### Question \\#1"
   ]
  },
  {
   "cell_type": "code",
   "execution_count": 1,
   "id": "3659df8a",
   "metadata": {},
   "outputs": [
    {
     "name": "stdout",
     "output_type": "stream",
     "text": [
      "Rectangle 1\n",
      "colour: red, filled: False, width: 4.00, height: 40.00 \n",
      "\n",
      "Rectangle 2\n",
      "colour: yellow, filled: True, width: 3.50, height: 35.70 \n",
      "\n"
     ]
    }
   ],
   "source": [
    "from test_rectangle import *\n",
    "\n",
    "main()"
   ]
  },
  {
   "cell_type": "markdown",
   "id": "29eb917a",
   "metadata": {},
   "source": [
    "### Question \\#2"
   ]
  },
  {
   "cell_type": "code",
   "execution_count": 1,
   "id": "fb203f01",
   "metadata": {},
   "outputs": [
    {
     "name": "stdout",
     "output_type": "stream",
     "text": [
      "Enter the 3 sides of a triangle.\n",
      "Enter a side: ty\n",
      "Error: Only floating-point numbers are allowed!\n",
      "\n",
      "Enter a side: -9\n",
      "Error: Wrong input!\n",
      "\n",
      "Enter a side: 4\n",
      "Enter a side: 5.0\n",
      "Enter a side: 6\n",
      "\n",
      "Enter a colour: red\n",
      "Is the triangle filled? Yes (y) or No (n)?\n",
      "Enter either y (Yes) or n (No): ty\n",
      "Error: Wrong input!\n",
      "\n",
      "Is the triangle filled? Yes (y) or No (n)?\n",
      "Enter either y (Yes) or n (No): y\n",
      "\n",
      "Triangle\n",
      "colour: red, filled: True, side1: 4.00, side2: 5.00, side3: 6.00, area: 9.92, perimeter: 15.00\n",
      "\n"
     ]
    }
   ],
   "source": [
    "from test_triangle import *\n",
    "\n",
    "main()"
   ]
  },
  {
   "cell_type": "markdown",
   "id": "9b2a60db",
   "metadata": {},
   "source": [
    "### Question \\#3"
   ]
  },
  {
   "cell_type": "code",
   "execution_count": 1,
   "id": "e7c2b670",
   "metadata": {},
   "outputs": [
    {
     "name": "stdout",
     "output_type": "stream",
     "text": [
      "Circle 1\n",
      "colour: white, filled: False, radius: 4.50, area: 63.62, perimeter: 28.27\n",
      "\n",
      "Circle 2\n",
      "colour: white, filled: False, radius: 7.70, area: 186.27, perimeter: 48.38\n",
      "\n"
     ]
    }
   ],
   "source": [
    "from test_circle import *\n",
    "\n",
    "main()"
   ]
  },
  {
   "cell_type": "markdown",
   "id": "0bef6a52",
   "metadata": {},
   "source": [
    "### Question \\#4"
   ]
  },
  {
   "cell_type": "code",
   "execution_count": 2,
   "id": "61c3f4bf",
   "metadata": {},
   "outputs": [
    {
     "name": "stdout",
     "output_type": "stream",
     "text": [
      "Enter the radius of 2 spheres.\n",
      "Enter a radius: ty\n",
      "Error: Only floating-point numbers are allowed!\n",
      "\n",
      "Enter a radius: -9\n",
      "Error: Wrong input!\n",
      "\n",
      "Enter a radius: 4.5\n",
      "Enter a radius: 7.7\n",
      "\n",
      "Sphere 1\n",
      "radius: 4.50, area: 254.47, perimeter: 381.70\n",
      "\n",
      "Sphere 2\n",
      "radius: 7.70, area: 745.06, perimeter: 1912.32\n"
     ]
    }
   ],
   "source": [
    "from test_sphere import *\n",
    "\n",
    "main()"
   ]
  },
  {
   "cell_type": "markdown",
   "id": "a88aae9b",
   "metadata": {},
   "source": [
    "### Question \\#5"
   ]
  },
  {
   "cell_type": "code",
   "execution_count": 1,
   "id": "eda6e36a",
   "metadata": {},
   "outputs": [
    {
     "name": "stdout",
     "output_type": "stream",
     "text": [
      "Enter a strong password: ········\n",
      "Error: The password must have at least 12 characters.\n",
      "Error: The password must contain at least one letter and one digit.\n",
      "Error: The password must include uppercase characters.\n",
      "Error: The password must include lowercase characters.\n",
      "\n",
      "Enter a strong password: ········\n",
      "Error: The password must have at least 12 characters.\n",
      "Error: The password must contain at least one letter and one digit.\n",
      "Error: The password must include uppercase characters.\n",
      "\n",
      "Enter a strong password: ········\n",
      "Error: The password must have at least 12 characters.\n",
      "\n",
      "Enter a strong password: ········\n",
      "Error: The password must have at least 12 characters.\n",
      "\n",
      "Enter a strong password: ········\n",
      "Password has been validated successfully.\n",
      "\n",
      "Enter the same password again: ········\n",
      "Congratulations! Your password is created successfully!\n"
     ]
    }
   ],
   "source": [
    "from StrongPassword import *\n",
    "import getpass\n",
    "\n",
    "def display_criteria():\n",
    "    critera = \"A strong password must have at least 12 characters,\\n\" + \\\n",
    "              \"consist of only letters and digits, at least one letter and one digit,\\n\" + \\\n",
    "              \"and consists of both uppercase and lowercase letters.\\n\"\n",
    "        \n",
    "def read_password():\n",
    "    return getpass.getpass(\"Enter a password: \")\n",
    "       \n",
    "def read_password_again():\n",
    "    return getpass.getpass(\"\\nEnter the same password again: \")\n",
    "    \n",
    "def main():\n",
    "    display_criteria()\n",
    "    \n",
    "    while True:\n",
    "        pw_1 = read_password().strip()\n",
    "        password = StrongPassword(pw_1)\n",
    "        is_validated, message = password.validate_password()\n",
    "        print(message)\n",
    "        if is_validated:\n",
    "            break\n",
    "          \n",
    "    pw_2 = read_password_again().strip()\n",
    "    result = password.verify_password(pw_2)\n",
    "        \n",
    "    if result:\n",
    "        print(\"Congratulations! Your password is created successfully!\")\n",
    "    else:\n",
    "        print(\"The two password do not match each other...\\n\")\n",
    "    \n",
    "main()"
   ]
  },
  {
   "cell_type": "markdown",
   "id": "d911f117",
   "metadata": {},
   "source": [
    "### Question \\#6"
   ]
  },
  {
   "cell_type": "code",
   "execution_count": 1,
   "id": "7cc14ad3",
   "metadata": {},
   "outputs": [
    {
     "name": "stdout",
     "output_type": "stream",
     "text": [
      "Enter a mode (1: Easy 2: Medium 3: Hard): 1\n",
      "\n",
      "Human   : 5 2 2 2 5 \n",
      "Total   : 16\n",
      "\n",
      "Computer: 6 4 4 2 1 \n",
      "Total   : 17\n",
      "\n",
      "The sum of your 5 dice is 16.\n",
      "The sum of computer's 5 dice is 17.\n",
      "Computer wins!\n",
      "\n",
      "Please enter 'y' to continue or any key to exit: y\n",
      "\n",
      "-----------------------------------------------------------------------------------------------------------------------------\n",
      "\n",
      "Enter a mode (1: Easy 2: Medium 3: Hard): 2\n",
      "\n",
      "Human   : 3 6 4 5 2 \n",
      "Total   : 20\n",
      "\n",
      "Computer: 4 2 4 2 3 \n",
      "Total   : 15\n",
      "\n",
      "The sum of your 5 dice is 20.\n",
      "The sum of computer's 5 dice is 15.\n",
      "You win!\n",
      "\n",
      "Please enter 'y' to continue or any key to exit: t\n",
      "\n",
      "Good bye!\n"
     ]
    },
    {
     "data": {
      "text/plain": [
       "<DiceRollingGame.DiceRollingGame at 0x20928b84fa0>"
      ]
     },
     "execution_count": 1,
     "metadata": {},
     "output_type": "execute_result"
    }
   ],
   "source": [
    "from DiceRollingGame import *\n",
    "\n",
    "DiceRollingGame()"
   ]
  },
  {
   "cell_type": "markdown",
   "id": "47baed48",
   "metadata": {},
   "source": [
    "### Question \\#7"
   ]
  },
  {
   "cell_type": "code",
   "execution_count": null,
   "id": "0458b8b8",
   "metadata": {},
   "outputs": [],
   "source": []
  },
  {
   "cell_type": "markdown",
   "id": "1d0228ed",
   "metadata": {},
   "source": [
    "### Question \\#8"
   ]
  },
  {
   "cell_type": "code",
   "execution_count": null,
   "id": "5d1dc114",
   "metadata": {},
   "outputs": [],
   "source": []
  },
  {
   "cell_type": "markdown",
   "id": "a2c56e2d",
   "metadata": {},
   "source": [
    "### Question \\#9"
   ]
  },
  {
   "cell_type": "code",
   "execution_count": null,
   "id": "1606861f",
   "metadata": {},
   "outputs": [],
   "source": []
  },
  {
   "cell_type": "markdown",
   "id": "ff2352ac",
   "metadata": {},
   "source": [
    "### Question \\#10"
   ]
  },
  {
   "cell_type": "code",
   "execution_count": null,
   "id": "f0dd13bd",
   "metadata": {},
   "outputs": [],
   "source": []
  },
  {
   "cell_type": "markdown",
   "id": "853494bc",
   "metadata": {},
   "source": [
    "### Question \\#11"
   ]
  },
  {
   "cell_type": "code",
   "execution_count": null,
   "id": "18d13972",
   "metadata": {},
   "outputs": [],
   "source": []
  }
 ],
 "metadata": {
  "kernelspec": {
   "display_name": "Python 3 (ipykernel)",
   "language": "python",
   "name": "python3"
  },
  "language_info": {
   "codemirror_mode": {
    "name": "ipython",
    "version": 3
   },
   "file_extension": ".py",
   "mimetype": "text/x-python",
   "name": "python",
   "nbconvert_exporter": "python",
   "pygments_lexer": "ipython3",
   "version": "3.10.9"
  }
 },
 "nbformat": 4,
 "nbformat_minor": 5
}
