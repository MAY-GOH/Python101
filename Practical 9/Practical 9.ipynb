{
 "cells": [
  {
   "cell_type": "markdown",
   "id": "48b7de1f",
   "metadata": {},
   "source": [
    "### Question \\#1"
   ]
  },
  {
   "cell_type": "code",
   "execution_count": 24,
   "id": "3659df8a",
   "metadata": {},
   "outputs": [
    {
     "name": "stdout",
     "output_type": "stream",
     "text": [
      "A filename consists of a name and its extension (e.g., document.txt)\n",
      "Enter a filename: abc\n",
      "\n",
      "Error: Something went wrong while opening the file!\n"
     ]
    }
   ],
   "source": [
    "from MyRectangle import *\n",
    "\n",
    "def read_filename():\n",
    "    prompt = \"A filename consists of a name and its extension (e.g., document.txt)\\nEnter a filename: \"\n",
    "    return input(prompt).strip()\n",
    "\n",
    "def is_header(row):\n",
    "    # Basic checks for header characteristics\n",
    "    # Modify this function based on your specific header criteria\n",
    "    # Here we check if the row contains only strings (assuming headers are non-numeric)\n",
    "    return all(cell.isalpha() or cell.isspace() for cell in row.split())\n",
    "\n",
    "def open_file(filename, mode):\n",
    "    return open(filename, mode)\n",
    "\n",
    "def read_file(file):\n",
    "    return [line.strip() for line in file.readlines() if not is_header(line)]\n",
    "\n",
    "def print_rectangle(width, height):\n",
    "    print(\"{:10s}: {:.2f}\".format(\"Width\", width))\n",
    "    print(\"{:10s}: {:.2f}\".format(\"Height\", height))\n",
    "    print(\"{:10s}: {:.2f}\".format(\"Area\", get_area(width, height)))\n",
    "    print(\"{:10s}: {:.2f}\".format(\"Perimeter\", get_perimeter(width, height)))\n",
    "    \n",
    "def process_rectangles(contents):\n",
    "    for i in range(len(contents)):\n",
    "        width, height = contents[i].strip().split()\n",
    "\n",
    "        try:\n",
    "            width = float(width)\n",
    "            height = float(height)\n",
    "        except ValueError:\n",
    "            print(\"\\nError: Invalid width or height values!\")\n",
    "        else:\n",
    "            print(\"\\n{:s} {:d}\".format(\"Rectangle\", i + 1))\n",
    "            print_rectangle(width, height)\n",
    "    \n",
    "def main():\n",
    "    try:\n",
    "        file = open_file(read_filename(), 'r')\n",
    "    except:\n",
    "        print(\"\\nError: Something went wrong while opening the file!\")\n",
    "    else:\n",
    "        try: \n",
    "            contents = read_file(file)\n",
    "        except IOError:\n",
    "            print(\"\\nError: Something went wrong while reading the file!\")\n",
    "        else:\n",
    "            if len(contents) == 0:\n",
    "                print(\"\\nError: The file is empty!\")\n",
    "            else:\n",
    "                process_rectangles(contents)\n",
    "        finally:\n",
    "            file.close()\n",
    "\n",
    "main()"
   ]
  },
  {
   "cell_type": "code",
   "execution_count": 1,
   "id": "f764fab2",
   "metadata": {},
   "outputs": [
    {
     "name": "stdout",
     "output_type": "stream",
     "text": [
      "A filename consists of a name and its extension (e.g., document.txt)\n",
      "Enter a filename: rectangles.txt\n",
      "\n",
      "Rectangle 1\n",
      "Width     : 4.00\n",
      "Height    : 40.00\n",
      "Area      : 160.00\n",
      "Perimeter : 88.00\n",
      "\n",
      "Rectangle 2\n",
      "Width     : 3.50\n",
      "Height    : 35.70\n",
      "Area      : 124.95\n",
      "Perimeter : 78.40\n"
     ]
    }
   ],
   "source": [
    "from MyFileReader import *\n",
    "from MyRectangle import *\n",
    "\n",
    "def print_rectangle(width, height):\n",
    "    print(\"{:10s}: {:.2f}\".format(\"Width\", width))\n",
    "    print(\"{:10s}: {:.2f}\".format(\"Height\", height))\n",
    "    print(\"{:10s}: {:.2f}\".format(\"Area\", get_area(width, height)))\n",
    "    print(\"{:10s}: {:.2f}\".format(\"Perimeter\", get_perimeter(width, height)))\n",
    "    \n",
    "def process_rectangles(contents):\n",
    "    for i in range(len(contents)):\n",
    "        width, height = contents[i].strip().split()\n",
    "\n",
    "        try:\n",
    "            width = float(width)\n",
    "            height = float(height)\n",
    "        except ValueError:\n",
    "            print(\"\\nError: Invalid width or height values!\")\n",
    "        else:\n",
    "            print(\"\\n{:s} {:d}\".format(\"Rectangle\", i + 1))\n",
    "            print_rectangle(width, height)\n",
    "    \n",
    "def main():\n",
    "    try:\n",
    "        file = open_file(read_filename(), 'r')\n",
    "    except:\n",
    "        print(\"\\nError: Something went wrong while opening the file!\")\n",
    "    else:\n",
    "        try: \n",
    "            contents = read_file(file)\n",
    "        except IOError:\n",
    "            print(\"\\nError: Something went wrong while reading the file!\")\n",
    "        else:\n",
    "            if len(contents) == 0:\n",
    "                print(\"\\nError: The file is empty!\")\n",
    "            else:\n",
    "                process_rectangles(contents)\n",
    "        finally:\n",
    "            file.close()\n",
    "\n",
    "main()"
   ]
  },
  {
   "cell_type": "markdown",
   "id": "29eb917a",
   "metadata": {},
   "source": [
    "### Question \\#2"
   ]
  },
  {
   "cell_type": "code",
   "execution_count": 3,
   "id": "fb203f01",
   "metadata": {},
   "outputs": [
    {
     "name": "stdout",
     "output_type": "stream",
     "text": [
      "A filename consists of a name and its extension (e.g., document.txt)\n",
      "Enter a filename: rectangles.txt\n",
      "\n",
      "Rectangle 1\n",
      "Width     : 4.00\n",
      "Height    : 40.00\n",
      "Area      : 160.00\n",
      "Perimeter : 88.00\n",
      "\n",
      "Rectangle 2\n",
      "Width     : 3.50\n",
      "Height    : 35.70\n",
      "Area      : 124.95\n",
      "Perimeter : 78.40\n"
     ]
    }
   ],
   "source": [
    "from MyFileReader import *\n",
    "from Rectangle import *\n",
    "\n",
    "def print_rectangles(rectangles):\n",
    "    for i in range(len(rectangles)):\n",
    "        print(\"\\n{:s} {:d}\".format(\"Rectangle\", i + 1))\n",
    "        print(\"{:10s}: {:.2f}\".format(\"Width\", rectangles[i].get_width()))\n",
    "        print(\"{:10s}: {:.2f}\".format(\"Height\", rectangles[i].get_height()))\n",
    "        print(\"{:10s}: {:.2f}\".format(\"Area\", rectangles[i].get_area()))\n",
    "        print(\"{:10s}: {:.2f}\".format(\"Perimeter\", rectangles[i].get_perimeter()))\n",
    "    \n",
    "def process_rectangles(contents):\n",
    "    rectangles = []\n",
    "    \n",
    "    for i in range(len(contents)):\n",
    "        width, height = contents[i].strip().split()            \n",
    "        try:\n",
    "            width = float(width)\n",
    "            height = float(height)\n",
    "        except ValueError:\n",
    "            print(\"Invalid width or height...\")\n",
    "        else:\n",
    "            rectangles.append(Rectangle(width, height))\n",
    "            \n",
    "    print_rectangles(rectangles)\n",
    "    \n",
    "def main():\n",
    "    try:\n",
    "        file = open_file(read_filename(), 'r')\n",
    "    except:\n",
    "        print(\"\\nError: Something went wrong while opening the file!\")\n",
    "    else:\n",
    "        try: \n",
    "            contents = read_file(file)\n",
    "        except IOError:\n",
    "            print(\"\\nError: Something went wrong while reading the file!\")\n",
    "        else:\n",
    "            if len(contents) == 0:\n",
    "                print(\"\\nError: The file is empty!\")\n",
    "            else:\n",
    "                process_rectangles(contents)\n",
    "        finally:\n",
    "            file.close()\n",
    "\n",
    "main()"
   ]
  },
  {
   "cell_type": "markdown",
   "id": "9b2a60db",
   "metadata": {},
   "source": [
    "### Question \\#3"
   ]
  },
  {
   "cell_type": "code",
   "execution_count": 5,
   "id": "e7c2b670",
   "metadata": {},
   "outputs": [
    {
     "name": "stdout",
     "output_type": "stream",
     "text": [
      "\n",
      "Operation: Addition\n",
      "Start Time  : 1729675719.31\n",
      "Stop Time   : 1729675729.23\n",
      "Elapsed Time: 00:00:10\n",
      "\n",
      "Operation: Multiplication\n",
      "Start Time  : 1729675729.23\n",
      "Stop Time   : 1729675736.53\n",
      "Elapsed Time: 00:00:07\n"
     ]
    }
   ],
   "source": [
    "from MyStopwatch import *\n",
    "\n",
    "MINIMUM = 1\n",
    "MAXIMUM = 100000000\n",
    "\n",
    "def addition():\n",
    "    total = 0\n",
    "    for i in range(MINIMUM, MAXIMUM + 1):\n",
    "        total += i\n",
    "        \n",
    "def multiplication():\n",
    "    total = 0\n",
    "    for i in range(MINIMUM, MAXIMUM + 1):\n",
    "        total *= i\n",
    "    \n",
    "def print_summary(operation, begin, end):\n",
    "    print(\"\\nOperation: {:s}\".format(operation))\n",
    "    print(\"{:12s}: {:.2f}\".format(\"Start Time\", begin))\n",
    "    print(\"{:12s}: {:.2f}\".format(\"Stop Time\", end))\n",
    "    hours, minutes, seconds = get_elapsed_time()\n",
    "    print(\"{:12s}: {:02}:{:02}:{:02}\".format(\"Elapsed Time\", hours, minutes, seconds))\n",
    "    \n",
    "def main():\n",
    "    begin = start()\n",
    "    addition()\n",
    "    end = stop()\n",
    "    print_summary(\"Addition\", begin, end)\n",
    "    \n",
    "    begin = start()\n",
    "    multiplication()\n",
    "    end = stop()\n",
    "    print_summary(\"Multiplication\", begin, end)\n",
    "\n",
    "main()   "
   ]
  },
  {
   "cell_type": "markdown",
   "id": "0bef6a52",
   "metadata": {},
   "source": [
    "### Question \\#4"
   ]
  },
  {
   "cell_type": "code",
   "execution_count": 6,
   "id": "61c3f4bf",
   "metadata": {},
   "outputs": [
    {
     "name": "stdout",
     "output_type": "stream",
     "text": [
      "\n",
      "Operation: Addition\n",
      "Start Time  : 1729675736.58\n",
      "Stop Time   : 1729675745.30\n",
      "Elapsed Time: 00:00:09\n",
      "\n",
      "Operation: Multiplication\n",
      "Start Time  : 1729675745.30\n",
      "Stop Time   : 1729675752.13\n",
      "Elapsed Time: 00:00:07\n"
     ]
    }
   ],
   "source": [
    "from Stopwatch import *\n",
    "\n",
    "MINIMUM = 1\n",
    "MAXIMUM = 100000000\n",
    "\n",
    "def addition():\n",
    "    total = 0\n",
    "    for i in range(MINIMUM, MAXIMUM + 1):\n",
    "        total += i\n",
    "        \n",
    "def multiplication():\n",
    "    total = 0\n",
    "    for i in range(MINIMUM, MAXIMUM + 1):\n",
    "        total *= i\n",
    "    \n",
    "def print_summary(operation, stopwatch):\n",
    "    print(\"\\nOperation: {:s}\".format(operation))\n",
    "    print(\"{:12s}: {:.2f}\".format(\"Start Time\", stopwatch.get_start_time()))\n",
    "    print(\"{:12s}: {:.2f}\".format(\"Stop Time\", stopwatch.get_end_time()))\n",
    "    hours, minutes, seconds = stopwatch.get_hms()\n",
    "    print(\"{:12s}: {:02}:{:02}:{:02}\".format(\"Elapsed Time\", hours, minutes, seconds))\n",
    "    \n",
    "def main():\n",
    "    stopwatch_1 = Stopwatch()\n",
    "    stopwatch_1.start()\n",
    "    addition()\n",
    "    stopwatch_1.stop()\n",
    "    print_summary(\"Addition\", stopwatch_1)\n",
    "    \n",
    "    stopwatch_2 = Stopwatch()\n",
    "    stopwatch_2.start()\n",
    "    multiplication()\n",
    "    stopwatch_2.stop()\n",
    "    print_summary(\"Multiplication\", stopwatch_2)\n",
    "\n",
    "main()   "
   ]
  },
  {
   "cell_type": "markdown",
   "id": "a88aae9b",
   "metadata": {},
   "source": [
    "### Question \\#5"
   ]
  },
  {
   "cell_type": "code",
   "execution_count": 4,
   "id": "eda6e36a",
   "metadata": {},
   "outputs": [
    {
     "name": "stdout",
     "output_type": "stream",
     "text": [
      "Fan 1\n",
      "Radius  : 10.00\n",
      "Colour  : Yellow\n",
      "On?     : Yes\n",
      "Speed   : 3\n",
      "\n",
      "Fan 2\n",
      "Radius  : 5.00\n",
      "Colour  : Blue\n",
      "On?     : No\n",
      "Speed   : 2\n",
      "\n",
      "A filename consists of a name and its extension (e.g., document.txt)\n",
      "Enter a filename: fans.txt\n",
      "\n",
      "Fan records have been saved successfully!\n"
     ]
    }
   ],
   "source": [
    "from MyFileReader import *\n",
    "from Fan import *\n",
    "\n",
    "def print_fans(fans):\n",
    "    for i in range(len(fans)):\n",
    "        print(\"Fan {:d}\".format(i + 1))\n",
    "        print(\"{:8s}: {:.2f}\".format(\"Radius\", fans[i].get_radius()))\n",
    "        print(\"{:8s}: {:s}\".format(\"Colour\", fans[i].get_colour()))\n",
    "        print(\"{:8s}: {:s}\".format(\"On?\", \"Yes\" if fans[i].is_on() else \"No\"))\n",
    "        print(\"{:8s}: {:d}\\n\".format(\"Speed\", fans[i].get_speed()))\n",
    "        \n",
    "def compile_fans(fans):\n",
    "    records = []\n",
    "               \n",
    "    for fan in fans:\n",
    "        record = str(fan.get_radius()) + \"\\t\" + fan.get_colour() + \"\\t\" + str(fan.is_on()) + \"\\t\" + str(fan.get_speed()) + \"\\n\" \n",
    "        records.append(record)\n",
    "        \n",
    "    return records\n",
    "        \n",
    "def save_fans(file, fans):\n",
    "    write_file(file, fans) \n",
    "        \n",
    "def main():\n",
    "    fans = [Fan(10, 'Yellow', True, 3), Fan(5, 'Blue', False, 2)]\n",
    "    print_fans(fans)\n",
    "\n",
    "    try:\n",
    "        file = open_file(read_filename(), 'a')\n",
    "    except:\n",
    "        print(\"\\nError: Something went wrong while opening the file!\")\n",
    "    else:\n",
    "        contents = compile_fans(fans)\n",
    "        try: \n",
    "            save_fans(file, contents)\n",
    "        except IOError:\n",
    "            print(\"\\nError: Something went wrong while reading the file!\")\n",
    "        else:\n",
    "            print(\"\\nFan records have been saved successfully!\")\n",
    "        finally:\n",
    "            file.close()\n",
    "\n",
    "main()"
   ]
  },
  {
   "cell_type": "markdown",
   "id": "d911f117",
   "metadata": {},
   "source": [
    "### Question \\#6"
   ]
  },
  {
   "cell_type": "code",
   "execution_count": 10,
   "id": "7cc14ad3",
   "metadata": {},
   "outputs": [
    {
     "name": "stdout",
     "output_type": "stream",
     "text": [
      "Round 1\n",
      "Die 1: 4\n",
      "Die 2: 3\n",
      "Total: 7\n",
      "\n",
      "Round 2\n",
      "Die 1: 4\n",
      "Die 2: 2\n",
      "Total: 6\n",
      "\n",
      "Round 3\n",
      "Die 1: 1\n",
      "Die 2: 6\n",
      "Total: 7\n",
      "\n",
      "Round 4\n",
      "Die 1: 3\n",
      "Die 2: 2\n",
      "Total: 5\n",
      "\n",
      "Round 5\n",
      "Die 1: 6\n",
      "Die 2: 6\n",
      "Total: 12\n",
      "\n"
     ]
    }
   ],
   "source": [
    "from Die import *\n",
    "    \n",
    "def main():\n",
    "    dice = [Die(), Die()]\n",
    "    \n",
    "    for i in range(5):\n",
    "        total = 0\n",
    "        \n",
    "        print(\"Round {:d}\".format(i + 1))\n",
    "        for j in range(len(dice)):\n",
    "            dice[j].roll()\n",
    "            print(\"{:5s}: {:d}\".format(\"Die \" + str(j + 1), dice[j].get_value()))\n",
    "            total += dice[j].get_value()\n",
    "            \n",
    "        print(\"{:5s}: {:d}\\n\".format(\"Total\", total))\n",
    "\n",
    "main()"
   ]
  },
  {
   "cell_type": "markdown",
   "id": "47baed48",
   "metadata": {},
   "source": [
    "### Question \\#7"
   ]
  },
  {
   "cell_type": "code",
   "execution_count": 2,
   "id": "0458b8b8",
   "metadata": {},
   "outputs": [
    {
     "name": "stdout",
     "output_type": "stream",
     "text": [
      "♥6 ♥6 ♥2 ♠3 ♠J ♥K ♣6 ♦2 ♠7 ♠8 \n",
      "Sum: 64\n"
     ]
    }
   ],
   "source": [
    "from Card import *\n",
    "\n",
    "def show_card(card):\n",
    "    return \"{:s}{:s}\".format(card.get_suit(), card.get_value())\n",
    "\n",
    "def read_value(card):\n",
    "    value = card.get_value()\n",
    "    match value:\n",
    "        case 'A':\n",
    "            return 1\n",
    "        case 'J':\n",
    "            return 11\n",
    "        case 'Q':\n",
    "            return 12\n",
    "        case 'K':\n",
    "            return 13\n",
    "        case _:\n",
    "            return int(value)\n",
    "\n",
    "def main():\n",
    "    cards = []\n",
    "    total = 0\n",
    "    \n",
    "    for i in range(10):\n",
    "        card = Card()\n",
    "        cards.append(card.random_pick())\n",
    "\n",
    "        print(show_card(card), end=\" \")\n",
    "        total += read_value(card)\n",
    "\n",
    "    print(\"\\nSum: {:d}\".format(total)) \n",
    "\n",
    "main()"
   ]
  },
  {
   "cell_type": "markdown",
   "id": "1d0228ed",
   "metadata": {},
   "source": [
    "### Question \\#8"
   ]
  },
  {
   "cell_type": "code",
   "execution_count": 3,
   "id": "5d1dc114",
   "metadata": {},
   "outputs": [
    {
     "name": "stdout",
     "output_type": "stream",
     "text": [
      "♦2 ♥2 ♦10 ♠8 ♥8 ♦4 ♣4 ♥6 ♦9 ♦J \n",
      "Sum: 64\n"
     ]
    }
   ],
   "source": [
    "from Deck import *\n",
    "\n",
    "def get_card(card):\n",
    "    return \"{:s}{:s}\".format(card.get_suit(), card.get_value())\n",
    "\n",
    "def read_value(card):\n",
    "    value = card.get_value()\n",
    "    match value:\n",
    "        case 'A':\n",
    "            return 1\n",
    "        case 'J':\n",
    "            return 11\n",
    "        case 'Q':\n",
    "            return 12\n",
    "        case 'K':\n",
    "            return 13\n",
    "        case _:\n",
    "            return int(value)\n",
    "\n",
    "def main():\n",
    "    deck = Deck()\n",
    "    total = 0\n",
    "    \n",
    "    deck.shuffle_deck()\n",
    "    for card in deck.get_cards()[:10]:\n",
    "        print(get_card(card), end=\" \")\n",
    "        total += read_value(card)\n",
    "\n",
    "    print(\"\\nSum: {:d}\".format(total)) \n",
    "\n",
    "main()"
   ]
  },
  {
   "cell_type": "markdown",
   "id": "a2c56e2d",
   "metadata": {},
   "source": [
    "### Question \\#9"
   ]
  },
  {
   "cell_type": "code",
   "execution_count": 1,
   "id": "1606861f",
   "metadata": {},
   "outputs": [
    {
     "name": "stdout",
     "output_type": "stream",
     "text": [
      "Rule: Each round, shuffle the deck, then a card will be randomly selected for you and the computer player.\n",
      "\n",
      "Press 's' to shuffle the deck: s\n",
      "\n",
      "Round 1\n",
      "Your card      : ♣3\n",
      "Computer's card: ♥3\n",
      "Higher card?   : Computer\n",
      "\n",
      "Press 's' to shuffle the deck: s\n",
      "\n",
      "Round 2\n",
      "Your card      : ♠2\n",
      "Computer's card: ♣10\n",
      "Higher card?   : You\n",
      "\n",
      "Press 's' to shuffle the deck: s\n",
      "\n",
      "Round 3\n",
      "Your card      : ♠J\n",
      "Computer's card: ♦9\n",
      "Higher card?   : You\n",
      "\n",
      "Press 's' to shuffle the deck: s\n",
      "\n",
      "Round 4\n",
      "Your card      : ♦2\n",
      "Computer's card: ♠K\n",
      "Higher card?   : Computer\n",
      "\n",
      "Press 's' to shuffle the deck: s\n",
      "\n",
      "Round 5\n",
      "Your card      : ♠7\n",
      "Computer's card: ♦8\n",
      "Higher card?   : Computer\n",
      "\n",
      "You drew higher cards 2 times.\n",
      "Computer drew higher cards 3 times.\n",
      "Computer wins!\n"
     ]
    }
   ],
   "source": [
    "from HighCardDraw import *\n",
    "\n",
    "game = HighCardDraw()\n",
    "game.simulation()"
   ]
  },
  {
   "cell_type": "markdown",
   "id": "ff2352ac",
   "metadata": {},
   "source": [
    "### Question \\#10"
   ]
  },
  {
   "cell_type": "code",
   "execution_count": 1,
   "id": "3a5b75a3",
   "metadata": {},
   "outputs": [
    {
     "name": "stdout",
     "output_type": "stream",
     "text": [
      "Enter a password: ········\n",
      "Error: The password must have at least 8 characters and at most 12 characters.\n",
      "Error: The password must contain at least one letter and one digit.\n",
      "\n",
      "Enter a password: ········\n",
      "Error: The password must have at least 8 characters and at most 12 characters.\n",
      "Error: The password must consist of only letters and digits.\n",
      "Error: The password must contain at least one letter and one digit.\n",
      "\n",
      "Enter a password: ········\n",
      "Password has been validated successfully.\n",
      "\n",
      "Enter the same password again: ········\n",
      "Congratulations! Your password is created successfully!\n"
     ]
    }
   ],
   "source": [
    "from Password import *\n",
    "import getpass\n",
    "\n",
    "def display_criteria():\n",
    "    critera = \"A password must have at least 8 characters and at most 12 characters,\\n\" + \\\n",
    "              \"consist of only letters and digits, at least one letter and one digit.\\n\"\n",
    "        \n",
    "def read_password():\n",
    "    return getpass.getpass(\"Enter a password: \")\n",
    "       \n",
    "def read_password_again():\n",
    "    return getpass.getpass(\"\\nEnter the same password again: \")\n",
    "    \n",
    "def main():\n",
    "    display_criteria()\n",
    "    \n",
    "    while True:\n",
    "        pw_1 = read_password().strip()\n",
    "        password = Password(pw_1)\n",
    "        is_validated, message = password.validate_password()\n",
    "        print(message)\n",
    "        if is_validated:\n",
    "            break\n",
    "          \n",
    "    pw_2 = read_password_again().strip()\n",
    "    result = password.verify_password(pw_2)\n",
    "        \n",
    "    if result:\n",
    "        print(\"Congratulations! Your password is created successfully!\")\n",
    "    else:\n",
    "        print(\"The two password do not match each other...\\n\")\n",
    "    \n",
    "main()"
   ]
  },
  {
   "cell_type": "code",
   "execution_count": 2,
   "id": "f0dd13bd",
   "metadata": {},
   "outputs": [
    {
     "name": "stdout",
     "output_type": "stream",
     "text": [
      "Enter a password: ········\n",
      "Error: The password must consist of only letters and digits.\n",
      "\n",
      "Enter a password: ········\n",
      "Error: The password must have at least 8 characters and at most 12 characters.\n",
      "Error: The password must contain at least one letter and one digit.\n",
      "\n",
      "Enter a password: ········\n",
      "Error: The password must have at least 8 characters and at most 12 characters.\n",
      "Error: The password must consist of only letters and digits.\n",
      "Error: The password must contain at least one letter and one digit.\n",
      "\n",
      "Enter a password: ········\n",
      "Password validated successfully.\n",
      "\n",
      "Enter the same password again: ········\n",
      "Congratulations! Your password is created successfully!\n"
     ]
    }
   ],
   "source": [
    "from Password import *\n",
    "import getpass\n",
    "\n",
    "def display_criteria():\n",
    "    critera = \"A password must have at least 8 characters and at most 12 characters,\\n\" + \\\n",
    "              \"consist of only letters and digits, at least one letter and one digit.\\n\"\n",
    "        \n",
    "def read_password():\n",
    "    return getpass.getpass(\"Enter a password: \")\n",
    "       \n",
    "def read_password_again():\n",
    "    return getpass.getpass(\"\\nEnter the same password again: \")\n",
    "    \n",
    "def validation(password):\n",
    "    password.check_length()\n",
    "    password.check_alnum_presence()\n",
    "    password.check_alnum_length()\n",
    "    return password.validate_password()\n",
    "    \n",
    "def verification(password, pw_2):\n",
    "    return password.verify_password(pw_2)\n",
    "    \n",
    "def main():\n",
    "    display_criteria()\n",
    "    \n",
    "    while True:\n",
    "        pw_1 = read_password().strip()\n",
    "        password = Password(pw_1)\n",
    "        is_validated, message = validation(password)\n",
    "        print(message)\n",
    "        if is_validated:\n",
    "            break\n",
    "          \n",
    "    pw_2 = read_password_again().strip()\n",
    "    result = verification(password, pw_2)\n",
    "        \n",
    "    if result:\n",
    "        print(\"Congratulations! Your password is created successfully!\")\n",
    "    else:\n",
    "        print(\"The two password do not match each other...\\n\")\n",
    "    \n",
    "main()"
   ]
  },
  {
   "cell_type": "markdown",
   "id": "853494bc",
   "metadata": {},
   "source": [
    "### Question \\#11"
   ]
  },
  {
   "cell_type": "code",
   "execution_count": null,
   "id": "18d13972",
   "metadata": {},
   "outputs": [],
   "source": []
  }
 ],
 "metadata": {
  "kernelspec": {
   "display_name": "Python 3 (ipykernel)",
   "language": "python",
   "name": "python3"
  },
  "language_info": {
   "codemirror_mode": {
    "name": "ipython",
    "version": 3
   },
   "file_extension": ".py",
   "mimetype": "text/x-python",
   "name": "python",
   "nbconvert_exporter": "python",
   "pygments_lexer": "ipython3",
   "version": "3.10.9"
  }
 },
 "nbformat": 4,
 "nbformat_minor": 5
}
